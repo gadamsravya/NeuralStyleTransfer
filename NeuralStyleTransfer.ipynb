{
  "nbformat": 4,
  "nbformat_minor": 0,
  "metadata": {
    "colab": {
      "name": "NeuralStyleTransfer.ipynb",
      "provenance": [],
      "collapsed_sections": [],
      "authorship_tag": "ABX9TyPMdFdT06+1iMo6b6GuEJg5",
      "include_colab_link": true
    },
    "kernelspec": {
      "display_name": "Python 3",
      "name": "python3"
    }
  },
  "cells": [
    {
      "cell_type": "markdown",
      "metadata": {
        "id": "view-in-github",
        "colab_type": "text"
      },
      "source": [
        "<a href=\"https://colab.research.google.com/github/gadamsravya/NeuralStyleTransfer/blob/main/NeuralStyleTransfer.ipynb\" target=\"_parent\"><img src=\"https://colab.research.google.com/assets/colab-badge.svg\" alt=\"Open In Colab\"/></a>"
      ]
    },
    {
      "cell_type": "code",
      "metadata": {
        "id": "xVsnYa28dvaR"
      },
      "source": [
        "import tensorflow as tf\n",
        "tf.compat.v1.enable_eager_execution()\n",
        "\n",
        "from tensorflow.python.keras.applications.vgg19 import VGG19"
      ],
      "execution_count": null,
      "outputs": []
    },
    {
      "cell_type": "code",
      "metadata": {
        "colab": {
          "base_uri": "https://localhost:8080/"
        },
        "id": "u4ADkuGajfG6",
        "outputId": "0c4a1933-cea0-4ad3-fa33-175bf7e70e6e"
      },
      "source": [
        "#Defining the model to be used\n",
        "\n",
        "model  = VGG19(include_top=False, weights='imagenet')\n",
        "model.trainable = False\n",
        "model.summary()"
      ],
      "execution_count": null,
      "outputs": [
        {
          "output_type": "stream",
          "text": [
            "Downloading data from https://storage.googleapis.com/tensorflow/keras-applications/vgg19/vgg19_weights_tf_dim_ordering_tf_kernels_notop.h5\n",
            "80142336/80134624 [==============================] - 3s 0us/step\n",
            "Model: \"vgg19\"\n",
            "_________________________________________________________________\n",
            "Layer (type)                 Output Shape              Param #   \n",
            "=================================================================\n",
            "input_1 (InputLayer)         [(None, None, None, 3)]   0         \n",
            "_________________________________________________________________\n",
            "block1_conv1 (Conv2D)        (None, None, None, 64)    1792      \n",
            "_________________________________________________________________\n",
            "block1_conv2 (Conv2D)        (None, None, None, 64)    36928     \n",
            "_________________________________________________________________\n",
            "block1_pool (MaxPooling2D)   (None, None, None, 64)    0         \n",
            "_________________________________________________________________\n",
            "block2_conv1 (Conv2D)        (None, None, None, 128)   73856     \n",
            "_________________________________________________________________\n",
            "block2_conv2 (Conv2D)        (None, None, None, 128)   147584    \n",
            "_________________________________________________________________\n",
            "block2_pool (MaxPooling2D)   (None, None, None, 128)   0         \n",
            "_________________________________________________________________\n",
            "block3_conv1 (Conv2D)        (None, None, None, 256)   295168    \n",
            "_________________________________________________________________\n",
            "block3_conv2 (Conv2D)        (None, None, None, 256)   590080    \n",
            "_________________________________________________________________\n",
            "block3_conv3 (Conv2D)        (None, None, None, 256)   590080    \n",
            "_________________________________________________________________\n",
            "block3_conv4 (Conv2D)        (None, None, None, 256)   590080    \n",
            "_________________________________________________________________\n",
            "block3_pool (MaxPooling2D)   (None, None, None, 256)   0         \n",
            "_________________________________________________________________\n",
            "block4_conv1 (Conv2D)        (None, None, None, 512)   1180160   \n",
            "_________________________________________________________________\n",
            "block4_conv2 (Conv2D)        (None, None, None, 512)   2359808   \n",
            "_________________________________________________________________\n",
            "block4_conv3 (Conv2D)        (None, None, None, 512)   2359808   \n",
            "_________________________________________________________________\n",
            "block4_conv4 (Conv2D)        (None, None, None, 512)   2359808   \n",
            "_________________________________________________________________\n",
            "block4_pool (MaxPooling2D)   (None, None, None, 512)   0         \n",
            "_________________________________________________________________\n",
            "block5_conv1 (Conv2D)        (None, None, None, 512)   2359808   \n",
            "_________________________________________________________________\n",
            "block5_conv2 (Conv2D)        (None, None, None, 512)   2359808   \n",
            "_________________________________________________________________\n",
            "block5_conv3 (Conv2D)        (None, None, None, 512)   2359808   \n",
            "_________________________________________________________________\n",
            "block5_conv4 (Conv2D)        (None, None, None, 512)   2359808   \n",
            "_________________________________________________________________\n",
            "block5_pool (MaxPooling2D)   (None, None, None, 512)   0         \n",
            "=================================================================\n",
            "Total params: 20,024,384\n",
            "Trainable params: 0\n",
            "Non-trainable params: 20,024,384\n",
            "_________________________________________________________________\n"
          ],
          "name": "stdout"
        }
      ]
    },
    {
      "cell_type": "code",
      "metadata": {
        "colab": {
          "background_save": true
        },
        "id": "zIdS4k3Fkfto"
      },
      "source": [
        "from tensorflow.python.keras.preprocessing.image import load_img, img_to_array\n",
        "from tensorflow.python.keras.applications.vgg19 import preprocess_input\n",
        "from tensorflow.python.keras.models import Model\n",
        "\n",
        "import numpy as np\n",
        "import matplotlib.pyplot as plt\n",
        "\n",
        "%matplotlib inline"
      ],
      "execution_count": null,
      "outputs": []
    },
    {
      "cell_type": "code",
      "metadata": {
        "colab": {
          "background_save": true
        },
        "id": "vcEE2VYvljUi"
      },
      "source": [
        "def load_and_preprocess_image(image_path):\n",
        "  img = load_img(image_path)\n",
        "  img = img_to_array(img)\n",
        "  img = preprocess_input(img)\n",
        "  img = np.expand_dims(img, axis = 0)\n",
        "  return img"
      ],
      "execution_count": null,
      "outputs": []
    },
    {
      "cell_type": "code",
      "metadata": {
        "colab": {
          "background_save": true
        },
        "id": "or_CprGOmc4w"
      },
      "source": [
        "def deprocess(x):\n",
        "  x[:, :, 0] +=103.939\n",
        "  x[:, :, 1] +=116.779\n",
        "  x[:, :, 2] +=123.68\n",
        "\n",
        "  x = x[:, :, ::-1]\n",
        "\n",
        "  x = np.clip(x, 0, 255).astype('uint8')\n",
        "  return x\n",
        "\n",
        "def display_img(image):\n",
        "  if(len(image.shape)==4):\n",
        "    img = np.squeeze(image, axis = 0)\n",
        "  img = deprocess(img)\n",
        "\n",
        "  plt.grid(False)\n",
        "  plt.xticks([])\n",
        "  plt.yticks([])\n",
        "  plt.imshow(img)\n",
        "\n",
        "  return \n"
      ],
      "execution_count": null,
      "outputs": []
    },
    {
      "cell_type": "code",
      "metadata": {
        "id": "STCTpG5roSgT"
      },
      "source": [
        "display_img(load_and_preprocess_image(\"/content/style.jpg\"))"
      ],
      "execution_count": null,
      "outputs": []
    },
    {
      "cell_type": "code",
      "metadata": {
        "id": "hd9RGJfdo7HR"
      },
      "source": [
        "display_img(load_and_preprocess_image(\"/content/content.jpeg\"))"
      ],
      "execution_count": null,
      "outputs": []
    },
    {
      "cell_type": "code",
      "metadata": {
        "id": "RZuJScrpplqf"
      },
      "source": [
        "content_layer = 'block5_conv3'\n",
        "\n",
        "style_layers = [\n",
        "    'block2_conv2',\n",
        "    'block3_conv3',\n",
        "    'block4_conv4'\n",
        "]\n",
        "\n",
        "content_model = Model(inputs = model.input,\n",
        "                      outputs = model.get_layer(content_layer).output\n",
        "                      )\n",
        "\n",
        "style_models = [Model(inputs = model.input, \n",
        "                     outputs = model.get_layer(layer).output) for layer in style_layers]"
      ],
      "execution_count": null,
      "outputs": []
    },
    {
      "cell_type": "code",
      "metadata": {
        "id": "FBxg75SMqgIX"
      },
      "source": [
        "\n",
        "def content_cost(content, generated):\n",
        "  a_C = content_model(content)\n",
        "  a_G = content_model(generated)\n",
        "  cost = tf.reduce_mean(tf.square(a_C-a_G))\n",
        "\n",
        "  return cost"
      ],
      "execution_count": null,
      "outputs": []
    },
    {
      "cell_type": "code",
      "metadata": {
        "colab": {
          "base_uri": "https://localhost:8080/"
        },
        "id": "ziZ7a36g-hEF",
        "outputId": "05410135-00b0-40e1-a0fd-e893c5316539"
      },
      "source": [
        "content = load_and_preprocess_image(\"/content/content1.png\")\n",
        "generated = load_and_preprocess_image(\"/content/content1.png\")\n",
        "\n",
        "cost = content_cost(content, generated)\n",
        "print(cost)"
      ],
      "execution_count": null,
      "outputs": [
        {
          "output_type": "stream",
          "text": [
            "tf.Tensor(0.0, shape=(), dtype=float32)\n"
          ],
          "name": "stdout"
        }
      ]
    },
    {
      "cell_type": "code",
      "metadata": {
        "id": "p3XcGpwvskZt"
      },
      "source": [
        "def gramMatrix(a):\n",
        "  n_C = int(a.shape[-1])\n",
        "  a = tf.reshape(a, [-1, n_C])\n",
        "  G = tf.matmul(a, a, transpose_a=True)/tf.cast(tf.shape(a)[0], tf.float32)\n",
        "  return G"
      ],
      "execution_count": null,
      "outputs": []
    },
    {
      "cell_type": "code",
      "metadata": {
        "id": "z_nhhOTeuAZP"
      },
      "source": [
        "def style_cost(style, generated):\n",
        "  cost = 0\n",
        "  for style_model in style_models:\n",
        "    a_S = style_model(style)\n",
        "    a_G = style_model(generated)\n",
        "    \n",
        "    G_S = gramMatrix(a_S)\n",
        "    G_G = gramMatrix(a_G)\n",
        "\n",
        "    costi = tf.reduce_mean(tf.square(G_S-G_G))\n",
        "    cost = cost + costi\n",
        "\n",
        "  return cost\n"
      ],
      "execution_count": null,
      "outputs": []
    },
    {
      "cell_type": "code",
      "metadata": {
        "id": "QVn-V-KBuTFB"
      },
      "source": [
        "def training_function(content_path, style_path, iterations = 50, alpha = 10, beta = 80):\n",
        "  content = load_and_preprocess_image(content_path)\n",
        "  style = load_and_preprocess_image(style_path)\n",
        "\n",
        "  generated = tf.Variable(content, dtype = tf.float32)\n",
        "\n",
        "  optimizer = tf.compat.v1.train.AdamOptimizer(learning_rate = 7.)\n",
        "\n",
        "  best_cost = 1e12 + 1.0\n",
        "  best_image = None\n",
        "  for i in range(iterations):\n",
        "    with tf.GradientTape() as g:\n",
        "      print(i)\n",
        "      J_C = content_cost(content, generated)\n",
        "      \n",
        "      J_S = style_cost(style, generated)\n",
        "    \n",
        "      J = alpha * J_C + beta * J_S\n",
        "      print(\"Start\")\n",
        "      grads = g.gradient(J, generated)\n",
        "      print(\"Next Start\")\n",
        "      optimizer.apply_gradients([(grads, generated)])\n",
        "      print(\"Over\")\n",
        "\n",
        "      if best_cost>J:\n",
        "        best_cost = J\n",
        "        best_image = generated\n",
        "    \n",
        "  return best_image\n",
        "\n"
      ],
      "execution_count": null,
      "outputs": []
    },
    {
      "cell_type": "code",
      "metadata": {
        "id": "JJkkV7BjHwP-"
      },
      "source": [
        "generated = training_function(\"/content/content1.jpg\", \"/content/style.jpeg\")"
      ],
      "execution_count": null,
      "outputs": []
    },
    {
      "cell_type": "code",
      "metadata": {
        "id": "QsajwLZMH9G9"
      },
      "source": [
        "generated = generated.numpy()"
      ],
      "execution_count": null,
      "outputs": []
    },
    {
      "cell_type": "code",
      "metadata": {
        "id": "8MFRhodP9Sf0"
      },
      "source": [
        "display_img(generated)"
      ],
      "execution_count": null,
      "outputs": []
    },
    {
      "cell_type": "code",
      "metadata": {
        "id": "9DBwhptVHm0v"
      },
      "source": [
        "style_img = load_and_preprocess_image(\"/content/366px-Van_Gogh_-_Terrasse_des_Cafés_an_der_Place_du_Forum_in_Arles_am_Abend1.jpeg\")\n",
        "style_layers1 = [\n",
        "                 'block1_conv1',\n",
        "                 'block1_conv2',\n",
        "                 'block2_conv1',\n",
        "                 'block2_conv2',\n",
        "                 'block3_conv1',\n",
        "                 'block3_conv2',\n",
        "                 'block3_conv3',\n",
        "                 'block3_conv4',\n",
        "                 'block4_conv1',\n",
        "                 'block4_conv2',\n",
        "                 'block4_conv3',\n",
        "                 'block4_conv4',\n",
        "                 'block5_conv1',\n",
        "                 'block5_conv2',\n",
        "                 'block5_conv3',\n",
        "                 'block5_conv4',\n",
        "]\n",
        "style_models1 = [Model( inputs = model.input, ouputs = model.get_layer(name = style_layer)) for style_layer in style_layers1]\n",
        "for style_model in style_models1:\n",
        "  style_img = style_model(style1)\n",
        "  display_img(style_img)"
      ],
      "execution_count": null,
      "outputs": []
    },
    {
      "cell_type": "code",
      "metadata": {
        "id": "5E11fxsjKbhh"
      },
      "source": [
        ""
      ],
      "execution_count": null,
      "outputs": []
    }
  ]
}